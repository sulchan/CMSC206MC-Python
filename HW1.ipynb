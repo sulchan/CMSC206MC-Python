{
 "cells": [
  {
   "cell_type": "markdown",
   "source": [
    "# Homework 1\n",
    "### Name: Sulchan Yoon\n",
    "### Class: CMSC 206\n",
    "### [Github](github.com/sulchan/CMSC206MC-Python)\n",
    "### [Associated Script](https://github.com/sulchan/CMSC206MC-Python/blob/master/hw1.py)\n",
    "\n",
    "## General Format\n",
    "\n",
    "1. Write a program to prompt user for four integer values. Display max and min of the 4 integer values. As an enhancement, display running total, or other enhancements of your choice. Finally, write up your findings of the enhancements.\n",
    "2. Write a program to prompt a value between 0.0 and 1.0 inclusively. If the value is out of range, print an error message. If the value is between the 0.0 and 1.0, print the corresponding letter grade.\n",
    "\n",
    "You can find the associated files in the github repo above.\n",
    "\n",
    "## fourInts function\n",
    "\n",
    "This script will take in 4 integer values. If the input is not 4 values, it will throw an error message. Once all four values are confirmed to be integer values, the output will push a message with the minimum and maximum values of the 4 integers.\n",
    "\n",
    "## Enhancement for fourInts\n",
    "\n",
    "As part 2 of the first script, I decided to build in an enhancement that will ...\n",
    "\n",
    "## grades function\n",
    "\n",
    "This script will take a single numeric value (float or int). If the value is not a float or int it will throw an error message. If the value is not between 0.0 and 1.0, it will also show a too high or too low error message. Once the value has been confirmed, it will provide a letter grade translation of the value inputted.\n",
    "\n",
    "## What did I learn?\n",
    "\n",
    "## What challenges did I encounter?\n"
   ],
   "metadata": {
    "collapsed": false
   }
  },
  {
   "cell_type": "markdown",
   "source": [],
   "metadata": {
    "collapsed": false
   }
  }
 ],
 "metadata": {
  "kernelspec": {
   "display_name": "Python 3",
   "language": "python",
   "name": "python3"
  },
  "language_info": {
   "codemirror_mode": {
    "name": "ipython",
    "version": 2
   },
   "file_extension": ".py",
   "mimetype": "text/x-python",
   "name": "python",
   "nbconvert_exporter": "python",
   "pygments_lexer": "ipython2",
   "version": "2.7.6"
  }
 },
 "nbformat": 4,
 "nbformat_minor": 0
}
