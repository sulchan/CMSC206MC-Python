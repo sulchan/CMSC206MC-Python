{
 "cells": [
  {
   "cell_type": "markdown",
   "source": [
    "# Homework 1\n",
    "### Name: Sulchan Yoon\n",
    "### Class: CMSC 206\n",
    "### [Github](github.com/sulchan/CMSC206MC-Python)\n",
    "### [Associated Script](https://github.com/sulchan/CMSC206MC-Python/blob/master/hw1.py)\n",
    "\n",
    "## General Format\n",
    "\n",
    "1. Write a program to prompt user for four integer values. Display max and min of the 4 integer values. As an enhancement, display running total, or other enhancements of your choice. Finally, write up your findings of the enhancements.\n",
    "2. Write a program to prompt a value between 0.0 and 1.0 inclusively. If the value is out of range, print an error message. If the value is between the 0.0 and 1.0, print the corresponding letter grade.\n",
    "\n",
    "You can find the associated files in the [github repo](github.com/sulchan/CMSC206MC-Python).\n",
    "\n",
    "## fourInts function\n",
    "\n",
    "This script will take in 4 integer values. If the input is not 4 values, it will throw an error message. Once all four values are confirmed to be integer values, the output will push a message with the minimum and maximum values of the 4 integers.\n",
    "\n",
    "## Enhancement for fourInts\n",
    "\n",
    "As part 2 of the first script, I decided to build in an enhancement that will be able to do the following additional calculations:\n",
    "- Find the sum of the values\n",
    "- Find the average of the values\n",
    "- Sort the list from lowest to highest\n",
    "- Sort the list from highest to lowest\n",
    "\n",
    "The purpose of using these enhancements is to reinforce knowledge on manipulation of a list.\n",
    "\n",
    "## grades function\n",
    "\n",
    "This script will take a single numeric value (float or int). If the value is not a float or int it will throw an error message. If the value is not between 0.0 and 1.0, it will also show a too high or too low error message. Once the value has been confirmed, it will provide a letter grade translation of the value inputted.\n",
    "\n",
    "## What did I learn?\n",
    "\n",
    "Through this assignment I was able to test the newer functionality on match-case (switch) statements. The overall functionality is a simple to use design and also includes an \"other\" section to handle the \"else\" situations. Overall, the visual and organization of the switch statement seems to be more user friendly than having a variety of if statements. One of the considerations I would take moving forward is to test runtime and optimization between using a switch versus an if then statement. Typically, newer functionality is designed to perform better than the other counter parts, however a switch statement is generally known to be an old type of function which may or may not have significant optimizations built in.\n",
    "\n",
    "## What challenges did I encounter?\n",
    "\n",
    "One of the main challenges I encountered through this project is getting the input message to run after the instructions. For some reason, I continued to push out an input block that occurred before any print instructions. I attempted to correct this by requiring the input to be gathered through a function. However, that still made the function run before the print statements. The way I went around this situation was to add a sleep or timeout for 0.5 seconds just so the functions would run in order. This may be through user error or something around my specific system. I will continue to search through stack exchange and other sites to find the root cause of this issue."
   ],
   "metadata": {
    "collapsed": false
   }
  }
 ],
 "metadata": {
  "kernelspec": {
   "display_name": "Python 3",
   "language": "python",
   "name": "python3"
  },
  "language_info": {
   "codemirror_mode": {
    "name": "ipython",
    "version": 2
   },
   "file_extension": ".py",
   "mimetype": "text/x-python",
   "name": "python",
   "nbconvert_exporter": "python",
   "pygments_lexer": "ipython2",
   "version": "2.7.6"
  }
 },
 "nbformat": 4,
 "nbformat_minor": 0
}
