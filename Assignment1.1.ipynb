{
 "cells": [
  {
   "cell_type": "markdown",
   "source": [
    "# Assignment 1.1\n",
    "### Name: Sulchan Yoon\n",
    "\n",
    "## Goal\n",
    "\n",
    "Research the Internet and share an \"article\" (article, tutorial, or video) that is relevant to this week's course topic(s). In several paragraphs, highlight your learning experience and include its link (URL) so that others can check.\n",
    "\n",
    "Complete as much of the following tutorial as you can:\n",
    "\n",
    "https://stackabuse.com/python-tutorial-for-absolute-beginners/\n",
    "\n",
    "As you are learning from the entire tutorial, write code (in Colab) to practice select examples.\n",
    "\n",
    "You may not fully understand the tutorial, just learn as much as you can (this is our 1st week of class).\n",
    "\n",
    "Spend no more than 4 hours completing the assignment and articulate your lessons learned."
   ],
   "metadata": {
    "collapsed": false
   }
  },
  {
   "cell_type": "code",
   "execution_count": 19,
   "outputs": [
    {
     "name": "stdout",
     "output_type": "stream",
     "text": [
      "The factorial of 5 is 120\n",
      "Input is not an integer, it is of type:  <class 'float'>\n",
      "Input is not an integer, it is of type:  <class 'str'>\n"
     ]
    }
   ],
   "source": [
    "# Tutorial\n",
    "\n",
    "# General tutorial followed: Functions and Loops\n",
    "\n",
    "# Define a function with an input parameter\n",
    "def factor(input):\n",
    "    # Save the initial value for comparison on output\n",
    "    initVal = input\n",
    "    # Verify the value to be of type integer as factorials require a integer input\n",
    "    if type(input) is int:\n",
    "        # Initialize result variable\n",
    "        result = 1\n",
    "        # Start while loop for calculations\n",
    "        while input > 1:\n",
    "            result = result * input\n",
    "            # Decrement input for the while loop\n",
    "            input -= 1\n",
    "        # Print result\n",
    "        print(\"The factorial of\", initVal, \"is\", result)\n",
    "    # If input is not type integer, it will \"error\" out and goes through this handler\n",
    "    else:\n",
    "        # Print result\n",
    "        print(\"Input is not an integer, it is of type: \", type(input))\n",
    "\n",
    "# Try 5\n",
    "factor(5)\n",
    "# Try 5.0\n",
    "factor(5.0)\n",
    "# Try \"5\"\n",
    "factor(\"5\")"
   ],
   "metadata": {
    "collapsed": false,
    "ExecuteTime": {
     "end_time": "2023-09-01T00:54:15.102596700Z",
     "start_time": "2023-09-01T00:54:15.089381600Z"
    }
   }
  },
  {
   "cell_type": "markdown",
   "source": [
    "## Additional Comment\n",
    "\n",
    "For additional information and tutorials, I follow the w3schools tutorials here: https://www.w3schools.com/python/python_while_loops.asp\n",
    "\n",
    "## Findings\n",
    "\n",
    "Following the variety of tutorials, I found building out the definition of a function to be simple. We can have functions with or without parameters. Functions do not have to always return a value or print out a value as the overall goal is simply to perform a task. Here I was able to create a simple function to produce the factorial of a given number. One of the considerations I had to take into account was that the input must be an integer type. Here I did a conditional statement to verify the type. Once the condition has been met, I then started the calculation. Because a factorial requires values to be calculated off of a verison of the original input (here input minus 1 factorial), a loop was required to go through the values. I chose to use a while loop so that I could continue to re-evaluate the input value after changes have been made.Please see attached for my code sample."
   ],
   "metadata": {
    "collapsed": false
   }
  },
  {
   "cell_type": "code",
   "execution_count": 19,
   "outputs": [],
   "source": [],
   "metadata": {
    "collapsed": false,
    "ExecuteTime": {
     "end_time": "2023-09-01T00:54:16.656542900Z",
     "start_time": "2023-09-01T00:54:16.646539200Z"
    }
   }
  },
  {
   "cell_type": "code",
   "execution_count": null,
   "outputs": [],
   "source": [],
   "metadata": {
    "collapsed": false
   }
  }
 ],
 "metadata": {
  "kernelspec": {
   "display_name": "Python 3",
   "language": "python",
   "name": "python3"
  },
  "language_info": {
   "codemirror_mode": {
    "name": "ipython",
    "version": 2
   },
   "file_extension": ".py",
   "mimetype": "text/x-python",
   "name": "python",
   "nbconvert_exporter": "python",
   "pygments_lexer": "ipython2",
   "version": "2.7.6"
  }
 },
 "nbformat": 4,
 "nbformat_minor": 0
}
